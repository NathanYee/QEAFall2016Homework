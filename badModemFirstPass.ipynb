{
 "cells": [
  {
   "cell_type": "code",
   "execution_count": 1,
   "metadata": {
    "collapsed": false
   },
   "outputs": [],
   "source": [
    "%matplotlib inline\n",
    "import matplotlib.pyplot as plt\n",
    "\n",
    "from scipy import signal\n",
    "import sounddevice as sd\n",
    "import numpy as np\n",
    "from scipy.io.wavfile import write\n",
    "from time import sleep"
   ]
  },
  {
   "cell_type": "markdown",
   "metadata": {},
   "source": [
    "# Test recording / playing sounds"
   ]
  },
  {
   "cell_type": "code",
   "execution_count": 22,
   "metadata": {
    "collapsed": false
   },
   "outputs": [
    {
     "name": "stdout",
     "output_type": "stream",
     "text": [
      "Done!\n"
     ]
    }
   ],
   "source": [
    "duration = 10\n",
    "fs = 44100\n",
    "myrecording = sd.rec(duration * fs, samplerate=fs, channels=1)\n",
    "print(\"Done!\")"
   ]
  },
  {
   "cell_type": "code",
   "execution_count": 24,
   "metadata": {
    "collapsed": true
   },
   "outputs": [],
   "source": [
    "sd.play(myrecording, fs)"
   ]
  },
  {
   "cell_type": "code",
   "execution_count": 25,
   "metadata": {
    "collapsed": false
   },
   "outputs": [
    {
     "name": "stdout",
     "output_type": "stream",
     "text": [
      "<class 'numpy.ndarray'>\n",
      "441000\n",
      "[[  9.76562500e-04]\n",
      " [  2.04467773e-03]\n",
      " [  3.44848633e-03]\n",
      " ..., \n",
      " [  0.00000000e+00]\n",
      " [  1.42119655e-34]\n",
      " [  0.00000000e+00]]\n"
     ]
    },
    {
     "data": {
      "image/png": "[encoded data removed]",
      "text/plain": [
       "<matplotlib.figure.Figure at 0x7f22a97577f0>"
      ]
     },
     "metadata": {},
     "output_type": "display_data"
    }
   ],
   "source": [
    "print(type(myrecording))\n",
    "print(len(myrecording))\n",
    "print(myrecording)\n",
    "plt.plot(myrecording)\n",
    "plt.show()"
   ]
  },
  {
   "cell_type": "markdown",
   "metadata": {},
   "source": [
    "# Test generating sounds"
   ]
  },
  {
   "cell_type": "code",
   "execution_count": 17,
   "metadata": {
    "collapsed": true
   },
   "outputs": [],
   "source": [
    "def zero_or_one(tone_array, i, one_tone, zero_tone):\n",
    "    \n",
    "    if i == 0:\n",
    "        tone_array = np.concatenate((tone_array, zero_tone))\n",
    "        print(\"zero\")\n",
    "    else:\n",
    "        tone_array = np.concatenate((tone_array, zero_tone))\n",
    "        tone_array = np.concatenate((tone_array, one_tone))\n",
    "        print(\"one\")\n",
    "        \n",
    "    return tone_array"
   ]
  },
  {
   "cell_type": "code",
   "execution_count": 26,
   "metadata": {
    "collapsed": false
   },
   "outputs": [],
   "source": [
    "sd.default.samplerate = 44100\n",
    "\n",
    "time = .3\n",
    "frequency = 440\n",
    "\n",
    "# Generate time of samples between 0 and time seconds\n",
    "samples = np.arange(44100 * time) / 44100.0\n",
    "# Recall that a sinusoidal wave of frequency f has formula w(t) = A*sin(2*pi*f*t)\n",
    "\n",
    "one_tone = 10000 * np.sin(2 * np.pi * frequency * samples)\n",
    "zero_tone = samples * 0\n",
    "\n",
    "# Convert it to wav format (16 bits)\n"
   ]
  },
  {
   "cell_type": "code",
   "execution_count": 27,
   "metadata": {
    "collapsed": false
   },
   "outputs": [
    {
     "name": "stdout",
     "output_type": "stream",
     "text": [
      "one\n",
      "one\n",
      "zero\n",
      "one\n",
      "one\n",
      "one\n",
      "one\n",
      "zero\n",
      "one\n",
      "zero\n",
      "zero\n",
      "one\n",
      "zero\n",
      "zero\n",
      "one\n"
     ]
    }
   ],
   "source": [
    "tone_array = zero_tone\n",
    "\n",
    "for i in [1,1,0,1,1,1,1,0,1,0,0,1,0,0,1]:\n",
    "    tone_array = zero_or_one(tone_array, i, one_tone, zero_tone)\n",
    "\n",
    "tone_array = np.array(tone_array, dtype=np.int16)"
   ]
  },
  {
   "cell_type": "code",
   "execution_count": null,
   "metadata": {
    "collapsed": false
   },
   "outputs": [],
   "source": [
    "sd.play(tone_array, blocking=True)\n",
    "plt.plot(tone_array)"
   ]
  },
  {
   "cell_type": "code",
   "execution_count": null,
   "metadata": {
    "collapsed": true
   },
   "outputs": [],
   "source": []
  }
 ],
 "metadata": {
  "kernelspec": {
   "display_name": "Python 3",
   "language": "python",
   "name": "python3"
  },
  "language_info": {
   "codemirror_mode": {
    "name": "ipython",
    "version": 3
   },
   "file_extension": ".py",
   "mimetype": "text/x-python",
   "name": "python",
   "nbconvert_exporter": "python",
   "pygments_lexer": "ipython3",
   "version": "3.5.2"
  }
 },
 "nbformat": 4,
 "nbformat_minor": 1
}
